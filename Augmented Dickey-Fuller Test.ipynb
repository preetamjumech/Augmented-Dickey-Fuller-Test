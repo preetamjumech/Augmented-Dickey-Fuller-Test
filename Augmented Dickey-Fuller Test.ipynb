{
 "cells": [
  {
   "cell_type": "code",
   "execution_count": 1,
   "id": "03cc7e13",
   "metadata": {},
   "outputs": [],
   "source": [
    "import pandas as pd\n",
    "import numpy as np\n",
    "import matplotlib.pyplot as plt\n",
    "%matplotlib inline\n",
    "import statsmodels.api as sm\n",
    "from statsmodels.tsa.stattools import adfuller"
   ]
  },
  {
   "cell_type": "code",
   "execution_count": 2,
   "id": "4f8ccbdf",
   "metadata": {},
   "outputs": [
    {
     "data": {
      "text/html": [
       "<div>\n",
       "<style scoped>\n",
       "    .dataframe tbody tr th:only-of-type {\n",
       "        vertical-align: middle;\n",
       "    }\n",
       "\n",
       "    .dataframe tbody tr th {\n",
       "        vertical-align: top;\n",
       "    }\n",
       "\n",
       "    .dataframe thead th {\n",
       "        text-align: right;\n",
       "    }\n",
       "</style>\n",
       "<table border=\"1\" class=\"dataframe\">\n",
       "  <thead>\n",
       "    <tr style=\"text-align: right;\">\n",
       "      <th></th>\n",
       "      <th>Time</th>\n",
       "      <th>Value</th>\n",
       "    </tr>\n",
       "  </thead>\n",
       "  <tbody>\n",
       "    <tr>\n",
       "      <th>0</th>\n",
       "      <td>1</td>\n",
       "      <td>0.000000</td>\n",
       "    </tr>\n",
       "    <tr>\n",
       "      <th>1</th>\n",
       "      <td>2</td>\n",
       "      <td>-0.090263</td>\n",
       "    </tr>\n",
       "    <tr>\n",
       "      <th>2</th>\n",
       "      <td>3</td>\n",
       "      <td>0.749995</td>\n",
       "    </tr>\n",
       "    <tr>\n",
       "      <th>3</th>\n",
       "      <td>4</td>\n",
       "      <td>1.247887</td>\n",
       "    </tr>\n",
       "    <tr>\n",
       "      <th>4</th>\n",
       "      <td>5</td>\n",
       "      <td>0.131282</td>\n",
       "    </tr>\n",
       "  </tbody>\n",
       "</table>\n",
       "</div>"
      ],
      "text/plain": [
       "   Time     Value\n",
       "0     1  0.000000\n",
       "1     2 -0.090263\n",
       "2     3  0.749995\n",
       "3     4  1.247887\n",
       "4     5  0.131282"
      ]
     },
     "execution_count": 2,
     "metadata": {},
     "output_type": "execute_result"
    }
   ],
   "source": [
    "df=pd.read_excel(\"Series_1.xlsx\")\n",
    "df.head()"
   ]
  },
  {
   "cell_type": "code",
   "execution_count": 3,
   "id": "524eb541",
   "metadata": {},
   "outputs": [
    {
     "data": {
      "text/html": [
       "<div>\n",
       "<style scoped>\n",
       "    .dataframe tbody tr th:only-of-type {\n",
       "        vertical-align: middle;\n",
       "    }\n",
       "\n",
       "    .dataframe tbody tr th {\n",
       "        vertical-align: top;\n",
       "    }\n",
       "\n",
       "    .dataframe thead th {\n",
       "        text-align: right;\n",
       "    }\n",
       "</style>\n",
       "<table border=\"1\" class=\"dataframe\">\n",
       "  <thead>\n",
       "    <tr style=\"text-align: right;\">\n",
       "      <th></th>\n",
       "      <th>Time</th>\n",
       "      <th>Value</th>\n",
       "    </tr>\n",
       "  </thead>\n",
       "  <tbody>\n",
       "    <tr>\n",
       "      <th>9995</th>\n",
       "      <td>9996</td>\n",
       "      <td>1.302256</td>\n",
       "    </tr>\n",
       "    <tr>\n",
       "      <th>9996</th>\n",
       "      <td>9997</td>\n",
       "      <td>0.558165</td>\n",
       "    </tr>\n",
       "    <tr>\n",
       "      <th>9997</th>\n",
       "      <td>9998</td>\n",
       "      <td>-1.401546</td>\n",
       "    </tr>\n",
       "    <tr>\n",
       "      <th>9998</th>\n",
       "      <td>9999</td>\n",
       "      <td>-1.817701</td>\n",
       "    </tr>\n",
       "    <tr>\n",
       "      <th>9999</th>\n",
       "      <td>10000</td>\n",
       "      <td>-0.858623</td>\n",
       "    </tr>\n",
       "  </tbody>\n",
       "</table>\n",
       "</div>"
      ],
      "text/plain": [
       "       Time     Value\n",
       "9995   9996  1.302256\n",
       "9996   9997  0.558165\n",
       "9997   9998 -1.401546\n",
       "9998   9999 -1.817701\n",
       "9999  10000 -0.858623"
      ]
     },
     "execution_count": 3,
     "metadata": {},
     "output_type": "execute_result"
    }
   ],
   "source": [
    "df.tail()"
   ]
  },
  {
   "cell_type": "code",
   "execution_count": 4,
   "id": "7fe978a1",
   "metadata": {},
   "outputs": [
    {
     "data": {
      "text/plain": [
       "[<matplotlib.lines.Line2D at 0x1c327c03280>]"
      ]
     },
     "execution_count": 4,
     "metadata": {},
     "output_type": "execute_result"
    },
    {
     "data": {
      "image/png": "[encoded data removed]",
      "text/plain": [
       "<Figure size 432x288 with 1 Axes>"
      ]
     },
     "metadata": {
      "needs_background": "light"
     },
     "output_type": "display_data"
    }
   ],
   "source": [
    "plt.plot(df[\"Value\"])"
   ]
  },
  {
   "cell_type": "code",
   "execution_count": 5,
   "id": "a0ea71ef",
   "metadata": {},
   "outputs": [],
   "source": [
    "X=df[\"Value\"].values"
   ]
  },
  {
   "cell_type": "code",
   "execution_count": 6,
   "id": "61af0944",
   "metadata": {},
   "outputs": [],
   "source": [
    "result = adfuller(X)"
   ]
  },
  {
   "cell_type": "code",
   "execution_count": 7,
   "id": "4c82d695",
   "metadata": {},
   "outputs": [
    {
     "name": "stdout",
     "output_type": "stream",
     "text": [
      "ADF Statistics is -22.1849\n"
     ]
    }
   ],
   "source": [
    "print(f\"ADF Statistics is {result[0]:.4f}\")"
   ]
  },
  {
   "cell_type": "code",
   "execution_count": 8,
   "id": "1c4d958a",
   "metadata": {},
   "outputs": [
    {
     "name": "stdout",
     "output_type": "stream",
     "text": [
      "p values is 0.0\n"
     ]
    }
   ],
   "source": [
    "print(f\"p values is {result[1]}\")"
   ]
  },
  {
   "cell_type": "code",
   "execution_count": 9,
   "id": "ab925ed0",
   "metadata": {},
   "outputs": [
    {
     "name": "stdout",
     "output_type": "stream",
     "text": [
      "Critical Values are:\n",
      "1%:  -3.4310\n",
      "5%:  -2.8618\n",
      "10%:  -2.5669\n"
     ]
    }
   ],
   "source": [
    "print(\"Critical Values are:\")\n",
    "for key,value in result[4].items():\n",
    "    print(f\"{key}:  {value:.4f}\")"
   ]
  },
  {
   "cell_type": "code",
   "execution_count": 10,
   "id": "68bc852b",
   "metadata": {},
   "outputs": [
    {
     "data": {
      "text/plain": [
       "{'1%': -3.4310041633725734,\n",
       " '5%': -2.861829101294412,\n",
       " '10%': -2.566923883481157}"
      ]
     },
     "execution_count": 10,
     "metadata": {},
     "output_type": "execute_result"
    }
   ],
   "source": [
    "result[4]"
   ]
  },
  {
   "cell_type": "code",
   "execution_count": 11,
   "id": "22fea676",
   "metadata": {},
   "outputs": [
    {
     "name": "stdout",
     "output_type": "stream",
     "text": [
      "Reject the null hypothesis, time series is stationary\n"
     ]
    }
   ],
   "source": [
    "if result[0] < result[4][\"5%\"]:\n",
    "    print(\"Reject the null hypothesis, time series is stationary\")\n",
    "else:\n",
    "    print(\"Failed to reject the null hypothesis, time series is non-stationary\")"
   ]
  },
  {
   "cell_type": "code",
   "execution_count": 12,
   "id": "3ed069dd",
   "metadata": {},
   "outputs": [
    {
     "name": "stdout",
     "output_type": "stream",
     "text": [
      "ADF Statistics is -22.1849\n",
      "p values is 0.0\n",
      "Critical Values are:\n",
      "1%:  -3.4310\n",
      "5%:  -2.8618\n",
      "10%:  -2.5669\n",
      "Reject the null hypothesis, time series is stationary\n"
     ]
    }
   ],
   "source": [
    "X=df[\"Value\"].values\n",
    "result = adfuller(X)\n",
    "print(f\"ADF Statistics is {result[0]:.4f}\")\n",
    "print(f\"p values is {result[1]}\")\n",
    "print(\"Critical Values are:\")\n",
    "for key,value in result[4].items():\n",
    "    print(f\"{key}:  {value:.4f}\")\n",
    "if result[0] < result[4][\"5%\"]:\n",
    "    print(\"Reject the null hypothesis, time series is stationary\")\n",
    "else:\n",
    "    print(\"Failed to reject the null hypothesis, time series is non-stationary\")"
   ]
  },
  {
   "cell_type": "code",
   "execution_count": 13,
   "id": "e0f34af9",
   "metadata": {},
   "outputs": [],
   "source": [
    "df[\"Difference\"] = df[\"Value\"].diff()"
   ]
  },
  {
   "cell_type": "code",
   "execution_count": 14,
   "id": "dba806f7",
   "metadata": {},
   "outputs": [
    {
     "data": {
      "text/html": [
       "<div>\n",
       "<style scoped>\n",
       "    .dataframe tbody tr th:only-of-type {\n",
       "        vertical-align: middle;\n",
       "    }\n",
       "\n",
       "    .dataframe tbody tr th {\n",
       "        vertical-align: top;\n",
       "    }\n",
       "\n",
       "    .dataframe thead th {\n",
       "        text-align: right;\n",
       "    }\n",
       "</style>\n",
       "<table border=\"1\" class=\"dataframe\">\n",
       "  <thead>\n",
       "    <tr style=\"text-align: right;\">\n",
       "      <th></th>\n",
       "      <th>Time</th>\n",
       "      <th>Value</th>\n",
       "      <th>Difference</th>\n",
       "    </tr>\n",
       "  </thead>\n",
       "  <tbody>\n",
       "    <tr>\n",
       "      <th>0</th>\n",
       "      <td>1</td>\n",
       "      <td>0.000000</td>\n",
       "      <td>NaN</td>\n",
       "    </tr>\n",
       "    <tr>\n",
       "      <th>1</th>\n",
       "      <td>2</td>\n",
       "      <td>-0.090263</td>\n",
       "      <td>-0.090263</td>\n",
       "    </tr>\n",
       "    <tr>\n",
       "      <th>2</th>\n",
       "      <td>3</td>\n",
       "      <td>0.749995</td>\n",
       "      <td>0.840259</td>\n",
       "    </tr>\n",
       "    <tr>\n",
       "      <th>3</th>\n",
       "      <td>4</td>\n",
       "      <td>1.247887</td>\n",
       "      <td>0.497891</td>\n",
       "    </tr>\n",
       "    <tr>\n",
       "      <th>4</th>\n",
       "      <td>5</td>\n",
       "      <td>0.131282</td>\n",
       "      <td>-1.116605</td>\n",
       "    </tr>\n",
       "  </tbody>\n",
       "</table>\n",
       "</div>"
      ],
      "text/plain": [
       "   Time     Value  Difference\n",
       "0     1  0.000000         NaN\n",
       "1     2 -0.090263   -0.090263\n",
       "2     3  0.749995    0.840259\n",
       "3     4  1.247887    0.497891\n",
       "4     5  0.131282   -1.116605"
      ]
     },
     "execution_count": 14,
     "metadata": {},
     "output_type": "execute_result"
    }
   ],
   "source": [
    "df.head()"
   ]
  },
  {
   "cell_type": "code",
   "execution_count": 15,
   "id": "8d879587",
   "metadata": {},
   "outputs": [
    {
     "data": {
      "text/plain": [
       "array([        nan, -0.09026324,  0.84025861, ..., -1.95971144,\n",
       "       -0.41615453,  0.95907765])"
      ]
     },
     "execution_count": 15,
     "metadata": {},
     "output_type": "execute_result"
    }
   ],
   "source": [
    "diff_values=df[\"Difference\"].values\n",
    "diff_values"
   ]
  },
  {
   "cell_type": "code",
   "execution_count": 16,
   "id": "ba0d416a",
   "metadata": {},
   "outputs": [
    {
     "data": {
      "text/plain": [
       "array([-0.09026324,  0.84025861,  0.49789131, ..., -1.95971144,\n",
       "       -0.41615453,  0.95907765])"
      ]
     },
     "execution_count": 16,
     "metadata": {},
     "output_type": "execute_result"
    }
   ],
   "source": [
    "y=diff_values[~np.isnan(df[\"Difference\"])]\n",
    "y"
   ]
  },
  {
   "cell_type": "code",
   "execution_count": 17,
   "id": "e1942832",
   "metadata": {},
   "outputs": [
    {
     "data": {
      "text/plain": [
       "(9999,)"
      ]
     },
     "execution_count": 17,
     "metadata": {},
     "output_type": "execute_result"
    }
   ],
   "source": [
    "y.shape"
   ]
  },
  {
   "cell_type": "code",
   "execution_count": 18,
   "id": "a6b29326",
   "metadata": {},
   "outputs": [
    {
     "data": {
      "text/plain": [
       "array([ 0.        , -0.09026324,  0.74999537, ..., -1.40154641,\n",
       "       -1.81770095, -0.8586233 ])"
      ]
     },
     "execution_count": 18,
     "metadata": {},
     "output_type": "execute_result"
    }
   ],
   "source": [
    "original_values=df[\"Value\"].values\n",
    "original_values"
   ]
  },
  {
   "cell_type": "code",
   "execution_count": 19,
   "id": "3a5f9e3f",
   "metadata": {},
   "outputs": [
    {
     "data": {
      "text/plain": [
       "array([ 0.        , -0.09026324,  0.74999537, ...,  0.55816503,\n",
       "       -1.40154641, -1.81770095])"
      ]
     },
     "execution_count": 19,
     "metadata": {},
     "output_type": "execute_result"
    }
   ],
   "source": [
    "X=original_values[:-1]\n",
    "X"
   ]
  },
  {
   "cell_type": "code",
   "execution_count": 20,
   "id": "f7cdb229",
   "metadata": {},
   "outputs": [
    {
     "data": {
      "text/plain": [
       "(9999,)"
      ]
     },
     "execution_count": 20,
     "metadata": {},
     "output_type": "execute_result"
    }
   ],
   "source": [
    "X.shape"
   ]
  },
  {
   "cell_type": "code",
   "execution_count": 21,
   "id": "c9c09ac6",
   "metadata": {},
   "outputs": [],
   "source": [
    "X=sm.add_constant(X)"
   ]
  },
  {
   "cell_type": "code",
   "execution_count": 22,
   "id": "c266ba0b",
   "metadata": {},
   "outputs": [],
   "source": [
    "model=sm.OLS(y,X)\n",
    "results=model.fit()"
   ]
  },
  {
   "cell_type": "code",
   "execution_count": 23,
   "id": "0f28eb5f",
   "metadata": {},
   "outputs": [
    {
     "name": "stdout",
     "output_type": "stream",
     "text": [
      "                            OLS Regression Results                            \n",
      "==============================================================================\n",
      "Dep. Variable:                      y   R-squared:                       0.047\n",
      "Model:                            OLS   Adj. R-squared:                  0.047\n",
      "Method:                 Least Squares   F-statistic:                     492.2\n",
      "Date:                Mon, 30 May 2022   Prob (F-statistic):          1.74e-106\n",
      "Time:                        20:28:41   Log-Likelihood:                -14130.\n",
      "No. Observations:                9999   AIC:                         2.826e+04\n",
      "Df Residuals:                    9997   BIC:                         2.828e+04\n",
      "Df Model:                           1                                         \n",
      "Covariance Type:            nonrobust                                         \n",
      "==============================================================================\n",
      "                 coef    std err          t      P>|t|      [0.025      0.975]\n",
      "------------------------------------------------------------------------------\n",
      "const          0.0659      0.010      6.347      0.000       0.046       0.086\n",
      "x1            -0.0939      0.004    -22.185      0.000      -0.102      -0.086\n",
      "==============================================================================\n",
      "Omnibus:                        0.340   Durbin-Watson:                   2.013\n",
      "Prob(Omnibus):                  0.844   Jarque-Bera (JB):                0.334\n",
      "Skew:                          -0.014   Prob(JB):                        0.846\n",
      "Kurtosis:                       3.003   Cond. No.                         2.60\n",
      "==============================================================================\n",
      "\n",
      "Notes:\n",
      "[1] Standard Errors assume that the covariance matrix of the errors is correctly specified.\n"
     ]
    }
   ],
   "source": [
    "print(results.summary())"
   ]
  },
  {
   "cell_type": "code",
   "execution_count": 24,
   "id": "b6287bed",
   "metadata": {},
   "outputs": [
    {
     "data": {
      "text/plain": [
       "-22.18493022734867"
      ]
     },
     "execution_count": 24,
     "metadata": {},
     "output_type": "execute_result"
    }
   ],
   "source": [
    "results.tvalues[1]"
   ]
  },
  {
   "cell_type": "markdown",
   "id": "324d20ff",
   "metadata": {},
   "source": [
    "### another series"
   ]
  },
  {
   "cell_type": "code",
   "execution_count": 25,
   "id": "3caea2bd",
   "metadata": {},
   "outputs": [
    {
     "data": {
      "text/html": [
       "<div>\n",
       "<style scoped>\n",
       "    .dataframe tbody tr th:only-of-type {\n",
       "        vertical-align: middle;\n",
       "    }\n",
       "\n",
       "    .dataframe tbody tr th {\n",
       "        vertical-align: top;\n",
       "    }\n",
       "\n",
       "    .dataframe thead th {\n",
       "        text-align: right;\n",
       "    }\n",
       "</style>\n",
       "<table border=\"1\" class=\"dataframe\">\n",
       "  <thead>\n",
       "    <tr style=\"text-align: right;\">\n",
       "      <th></th>\n",
       "      <th>Time</th>\n",
       "      <th>Value</th>\n",
       "    </tr>\n",
       "  </thead>\n",
       "  <tbody>\n",
       "    <tr>\n",
       "      <th>0</th>\n",
       "      <td>1</td>\n",
       "      <td>50</td>\n",
       "    </tr>\n",
       "    <tr>\n",
       "      <th>1</th>\n",
       "      <td>2</td>\n",
       "      <td>120</td>\n",
       "    </tr>\n",
       "    <tr>\n",
       "      <th>2</th>\n",
       "      <td>3</td>\n",
       "      <td>-25</td>\n",
       "    </tr>\n",
       "    <tr>\n",
       "      <th>3</th>\n",
       "      <td>4</td>\n",
       "      <td>31</td>\n",
       "    </tr>\n",
       "    <tr>\n",
       "      <th>4</th>\n",
       "      <td>5</td>\n",
       "      <td>94</td>\n",
       "    </tr>\n",
       "  </tbody>\n",
       "</table>\n",
       "</div>"
      ],
      "text/plain": [
       "   Time  Value\n",
       "0     1     50\n",
       "1     2    120\n",
       "2     3    -25\n",
       "3     4     31\n",
       "4     5     94"
      ]
     },
     "execution_count": 25,
     "metadata": {},
     "output_type": "execute_result"
    }
   ],
   "source": [
    "df2=pd.read_excel(\"Series_2.xlsx\")\n",
    "df2.head()"
   ]
  },
  {
   "cell_type": "code",
   "execution_count": 26,
   "id": "0369abfe",
   "metadata": {},
   "outputs": [
    {
     "data": {
      "text/plain": [
       "[<matplotlib.lines.Line2D at 0x1c327a78940>]"
      ]
     },
     "execution_count": 26,
     "metadata": {},
     "output_type": "execute_result"
    },
    {
     "data": {
      "image/png": "[encoded data removed]",
      "text/plain": [
       "<Figure size 432x288 with 1 Axes>"
      ]
     },
     "metadata": {
      "needs_background": "light"
     },
     "output_type": "display_data"
    }
   ],
   "source": [
    "plt.plot(df2[\"Value\"])"
   ]
  },
  {
   "cell_type": "code",
   "execution_count": 27,
   "id": "5e2c86ab",
   "metadata": {},
   "outputs": [
    {
     "name": "stdout",
     "output_type": "stream",
     "text": [
      "ADF Statistics is -1.7434\n",
      "p values is 0.40889412299525735\n",
      "Critical Values are:\n",
      "1%:  -3.7239\n",
      "5%:  -2.9865\n",
      "10%:  -2.6328\n",
      "Failed to reject the null hypothesis, time series is non-stationary\n"
     ]
    }
   ],
   "source": [
    "X=df2[\"Value\"].values\n",
    "result = adfuller(X)\n",
    "print(f\"ADF Statistics is {result[0]:.4f}\")\n",
    "print(f\"p values is {result[1]}\")\n",
    "print(\"Critical Values are:\")\n",
    "for key,value in result[4].items():\n",
    "    print(f\"{key}:  {value:.4f}\")\n",
    "if result[0] < result[4][\"5%\"]:\n",
    "    print(\"Reject the null hypothesis, time series is stationary\")\n",
    "else:\n",
    "    print(\"Failed to reject the null hypothesis, time series is non-stationary\")"
   ]
  },
  {
   "cell_type": "code",
   "execution_count": 28,
   "id": "0d31ea4f",
   "metadata": {},
   "outputs": [],
   "source": [
    "df2[\"Difference\"] = df2[\"Value\"].diff()"
   ]
  },
  {
   "cell_type": "code",
   "execution_count": 29,
   "id": "3e7916cf",
   "metadata": {},
   "outputs": [
    {
     "data": {
      "text/html": [
       "<div>\n",
       "<style scoped>\n",
       "    .dataframe tbody tr th:only-of-type {\n",
       "        vertical-align: middle;\n",
       "    }\n",
       "\n",
       "    .dataframe tbody tr th {\n",
       "        vertical-align: top;\n",
       "    }\n",
       "\n",
       "    .dataframe thead th {\n",
       "        text-align: right;\n",
       "    }\n",
       "</style>\n",
       "<table border=\"1\" class=\"dataframe\">\n",
       "  <thead>\n",
       "    <tr style=\"text-align: right;\">\n",
       "      <th></th>\n",
       "      <th>Time</th>\n",
       "      <th>Value</th>\n",
       "      <th>Difference</th>\n",
       "    </tr>\n",
       "  </thead>\n",
       "  <tbody>\n",
       "    <tr>\n",
       "      <th>0</th>\n",
       "      <td>1</td>\n",
       "      <td>50</td>\n",
       "      <td>NaN</td>\n",
       "    </tr>\n",
       "    <tr>\n",
       "      <th>1</th>\n",
       "      <td>2</td>\n",
       "      <td>120</td>\n",
       "      <td>70.0</td>\n",
       "    </tr>\n",
       "    <tr>\n",
       "      <th>2</th>\n",
       "      <td>3</td>\n",
       "      <td>-25</td>\n",
       "      <td>-145.0</td>\n",
       "    </tr>\n",
       "    <tr>\n",
       "      <th>3</th>\n",
       "      <td>4</td>\n",
       "      <td>31</td>\n",
       "      <td>56.0</td>\n",
       "    </tr>\n",
       "    <tr>\n",
       "      <th>4</th>\n",
       "      <td>5</td>\n",
       "      <td>94</td>\n",
       "      <td>63.0</td>\n",
       "    </tr>\n",
       "  </tbody>\n",
       "</table>\n",
       "</div>"
      ],
      "text/plain": [
       "   Time  Value  Difference\n",
       "0     1     50         NaN\n",
       "1     2    120        70.0\n",
       "2     3    -25      -145.0\n",
       "3     4     31        56.0\n",
       "4     5     94        63.0"
      ]
     },
     "execution_count": 29,
     "metadata": {},
     "output_type": "execute_result"
    }
   ],
   "source": [
    "df2.head()"
   ]
  },
  {
   "cell_type": "code",
   "execution_count": 30,
   "id": "9db646ba",
   "metadata": {},
   "outputs": [
    {
     "data": {
      "text/html": [
       "<div>\n",
       "<style scoped>\n",
       "    .dataframe tbody tr th:only-of-type {\n",
       "        vertical-align: middle;\n",
       "    }\n",
       "\n",
       "    .dataframe tbody tr th {\n",
       "        vertical-align: top;\n",
       "    }\n",
       "\n",
       "    .dataframe thead th {\n",
       "        text-align: right;\n",
       "    }\n",
       "</style>\n",
       "<table border=\"1\" class=\"dataframe\">\n",
       "  <thead>\n",
       "    <tr style=\"text-align: right;\">\n",
       "      <th></th>\n",
       "      <th>Time</th>\n",
       "      <th>Value</th>\n",
       "      <th>Difference</th>\n",
       "    </tr>\n",
       "  </thead>\n",
       "  <tbody>\n",
       "    <tr>\n",
       "      <th>21</th>\n",
       "      <td>22</td>\n",
       "      <td>-143</td>\n",
       "      <td>-42.0</td>\n",
       "    </tr>\n",
       "    <tr>\n",
       "      <th>22</th>\n",
       "      <td>23</td>\n",
       "      <td>-286</td>\n",
       "      <td>-143.0</td>\n",
       "    </tr>\n",
       "    <tr>\n",
       "      <th>23</th>\n",
       "      <td>24</td>\n",
       "      <td>-197</td>\n",
       "      <td>89.0</td>\n",
       "    </tr>\n",
       "    <tr>\n",
       "      <th>24</th>\n",
       "      <td>25</td>\n",
       "      <td>-236</td>\n",
       "      <td>-39.0</td>\n",
       "    </tr>\n",
       "    <tr>\n",
       "      <th>25</th>\n",
       "      <td>26</td>\n",
       "      <td>-256</td>\n",
       "      <td>-20.0</td>\n",
       "    </tr>\n",
       "  </tbody>\n",
       "</table>\n",
       "</div>"
      ],
      "text/plain": [
       "    Time  Value  Difference\n",
       "21    22   -143       -42.0\n",
       "22    23   -286      -143.0\n",
       "23    24   -197        89.0\n",
       "24    25   -236       -39.0\n",
       "25    26   -256       -20.0"
      ]
     },
     "execution_count": 30,
     "metadata": {},
     "output_type": "execute_result"
    }
   ],
   "source": [
    "df2.tail()"
   ]
  },
  {
   "cell_type": "code",
   "execution_count": 31,
   "id": "d05b6a8e",
   "metadata": {},
   "outputs": [
    {
     "data": {
      "text/plain": [
       "array([  nan,   70., -145.,   56.,   63.,  -33.,   26., -152.,   95.,\n",
       "         35.,  -50.,   -7.,  -26.,  -11.,  -68.,  139.,  216., -252.,\n",
       "         39., -101.,  -45.,  -42., -143.,   89.,  -39.,  -20.])"
      ]
     },
     "execution_count": 31,
     "metadata": {},
     "output_type": "execute_result"
    }
   ],
   "source": [
    "diff_values=df2[\"Difference\"].values\n",
    "diff_values"
   ]
  },
  {
   "cell_type": "code",
   "execution_count": 32,
   "id": "bb59da10",
   "metadata": {},
   "outputs": [
    {
     "data": {
      "text/plain": [
       "array([  70., -145.,   56.,   63.,  -33.,   26., -152.,   95.,   35.,\n",
       "        -50.,   -7.,  -26.,  -11.,  -68.,  139.,  216., -252.,   39.,\n",
       "       -101.,  -45.,  -42., -143.,   89.,  -39.,  -20.])"
      ]
     },
     "execution_count": 32,
     "metadata": {},
     "output_type": "execute_result"
    }
   ],
   "source": [
    "y=diff_values[~np.isnan(df2[\"Difference\"])]\n",
    "y"
   ]
  },
  {
   "cell_type": "code",
   "execution_count": 33,
   "id": "a25a6f8d",
   "metadata": {},
   "outputs": [
    {
     "data": {
      "text/plain": [
       "(25,)"
      ]
     },
     "execution_count": 33,
     "metadata": {},
     "output_type": "execute_result"
    }
   ],
   "source": [
    "y.shape"
   ]
  },
  {
   "cell_type": "code",
   "execution_count": 34,
   "id": "fe2e323c",
   "metadata": {},
   "outputs": [
    {
     "data": {
      "text/plain": [
       "array([  50,  120,  -25,   31,   94,   61,   87,  -65,   30,   65,   15,\n",
       "          8,  -18,  -29,  -97,   42,  258,    6,   45,  -56, -101, -143,\n",
       "       -286, -197, -236, -256], dtype=int64)"
      ]
     },
     "execution_count": 34,
     "metadata": {},
     "output_type": "execute_result"
    }
   ],
   "source": [
    "original_values=df2[\"Value\"].values\n",
    "original_values"
   ]
  },
  {
   "cell_type": "code",
   "execution_count": 35,
   "id": "6b9c44c7",
   "metadata": {},
   "outputs": [
    {
     "data": {
      "text/plain": [
       "array([  50,  120,  -25,   31,   94,   61,   87,  -65,   30,   65,   15,\n",
       "          8,  -18,  -29,  -97,   42,  258,    6,   45,  -56, -101, -143,\n",
       "       -286, -197, -236], dtype=int64)"
      ]
     },
     "execution_count": 35,
     "metadata": {},
     "output_type": "execute_result"
    }
   ],
   "source": [
    "X=original_values[:-1]\n",
    "X"
   ]
  },
  {
   "cell_type": "code",
   "execution_count": 36,
   "id": "7192c48e",
   "metadata": {},
   "outputs": [
    {
     "data": {
      "text/plain": [
       "(25,)"
      ]
     },
     "execution_count": 36,
     "metadata": {},
     "output_type": "execute_result"
    }
   ],
   "source": [
    "X.shape"
   ]
  },
  {
   "cell_type": "code",
   "execution_count": 37,
   "id": "ae8ef87a",
   "metadata": {},
   "outputs": [
    {
     "name": "stdout",
     "output_type": "stream",
     "text": [
      "                            OLS Regression Results                            \n",
      "==============================================================================\n",
      "Dep. Variable:                      y   R-squared:                       0.117\n",
      "Model:                            OLS   Adj. R-squared:                  0.078\n",
      "Method:                 Least Squares   F-statistic:                     3.039\n",
      "Date:                Mon, 30 May 2022   Prob (F-statistic):             0.0946\n",
      "Time:                        20:28:42   Log-Likelihood:                -148.93\n",
      "No. Observations:                  25   AIC:                             301.9\n",
      "Df Residuals:                      23   BIC:                             304.3\n",
      "Df Model:                           1                                         \n",
      "Covariance Type:            nonrobust                                         \n",
      "==============================================================================\n",
      "                 coef    std err          t      P>|t|      [0.025      0.975]\n",
      "------------------------------------------------------------------------------\n",
      "const        -16.2489     19.640     -0.827      0.417     -56.877      24.379\n",
      "x1            -0.2939      0.169     -1.743      0.095      -0.643       0.055\n",
      "==============================================================================\n",
      "Omnibus:                        1.194   Durbin-Watson:                   2.238\n",
      "Prob(Omnibus):                  0.550   Jarque-Bera (JB):                0.535\n",
      "Skew:                           0.355   Prob(JB):                        0.765\n",
      "Kurtosis:                       3.104   Cond. No.                         117.\n",
      "==============================================================================\n",
      "\n",
      "Notes:\n",
      "[1] Standard Errors assume that the covariance matrix of the errors is correctly specified.\n"
     ]
    }
   ],
   "source": [
    "X=sm.add_constant(X)\n",
    "model=sm.OLS(y,X)\n",
    "results=model.fit()\n",
    "print(results.summary())"
   ]
  },
  {
   "cell_type": "code",
   "execution_count": 38,
   "id": "999c03c5",
   "metadata": {},
   "outputs": [
    {
     "data": {
      "text/plain": [
       "-1.7434145361492948"
      ]
     },
     "execution_count": 38,
     "metadata": {},
     "output_type": "execute_result"
    }
   ],
   "source": [
    "results.tvalues[1]"
   ]
  },
  {
   "cell_type": "code",
   "execution_count": null,
   "id": "7f8a01e3",
   "metadata": {},
   "outputs": [],
   "source": []
  }
 ],
 "metadata": {
  "kernelspec": {
   "display_name": "Python 3",
   "language": "python",
   "name": "python3"
  },
  "language_info": {
   "codemirror_mode": {
    "name": "ipython",
    "version": 3
   },
   "file_extension": ".py",
   "mimetype": "text/x-python",
   "name": "python",
   "nbconvert_exporter": "python",
   "pygments_lexer": "ipython3",
   "version": "3.8.8"
  }
 },
 "nbformat": 4,
 "nbformat_minor": 5
}
